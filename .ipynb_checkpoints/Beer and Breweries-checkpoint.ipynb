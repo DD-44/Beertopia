{
 "cells": [
  {
   "cell_type": "code",
   "execution_count": 1,
   "metadata": {},
   "outputs": [
    {
     "ename": "ModuleNotFoundError",
     "evalue": "No module named 'config'",
     "output_type": "error",
     "traceback": [
      "\u001b[1;31m---------------------------------------------------------------------------\u001b[0m",
      "\u001b[1;31mModuleNotFoundError\u001b[0m                       Traceback (most recent call last)",
      "\u001b[1;32m<ipython-input-1-e3a2149e3e4d>\u001b[0m in \u001b[0;36m<module>\u001b[1;34m\u001b[0m\n\u001b[0;32m      5\u001b[0m \u001b[1;32mimport\u001b[0m \u001b[0mjson\u001b[0m\u001b[1;33m\u001b[0m\u001b[1;33m\u001b[0m\u001b[0m\n\u001b[0;32m      6\u001b[0m \u001b[1;32mfrom\u001b[0m \u001b[0mpprint\u001b[0m \u001b[1;32mimport\u001b[0m \u001b[0mpprint\u001b[0m\u001b[1;33m\u001b[0m\u001b[1;33m\u001b[0m\u001b[0m\n\u001b[1;32m----> 7\u001b[1;33m \u001b[1;32mfrom\u001b[0m \u001b[0mconfig\u001b[0m \u001b[1;32mimport\u001b[0m \u001b[0mgkey\u001b[0m\u001b[1;33m\u001b[0m\u001b[1;33m\u001b[0m\u001b[0m\n\u001b[0m\u001b[0;32m      8\u001b[0m \u001b[1;33m\u001b[0m\u001b[0m\n\u001b[0;32m      9\u001b[0m \u001b[1;32mfrom\u001b[0m \u001b[0mbs4\u001b[0m \u001b[1;32mimport\u001b[0m \u001b[0mBeautifulSoup\u001b[0m \u001b[1;32mas\u001b[0m \u001b[0mbs\u001b[0m\u001b[1;33m\u001b[0m\u001b[1;33m\u001b[0m\u001b[0m\n",
      "\u001b[1;31mModuleNotFoundError\u001b[0m: No module named 'config'"
     ]
    }
   ],
   "source": [
    "# import dependencies \n",
    "import pandas as pd\n",
    "import numpy as np\n",
    "import requests\n",
    "import json\n",
    "from pprint import pprint\n",
    "from config import gkey\n",
    " \n",
    "from bs4 import BeautifulSoup as bs\n",
    "import requests as req\n"
   ]
  },
  {
   "cell_type": "code",
   "execution_count": null,
   "metadata": {},
   "outputs": [],
   "source": [
    "# read breweries csv files\n",
    "breweries = \"breweries.csv\"\n",
    "breweries_df = pd.read_csv(breweries)\n",
    "# Rename columns for better readability\n",
    "brewery_id_df = breweries_df.rename(columns={'Unnamed: 0': 'brewery_id', 'name': 'brewery_name'})\n",
    "# Preview breweries df\n",
    "brewery_id_df.head()"
   ]
  },
  {
   "cell_type": "code",
   "execution_count": null,
   "metadata": {},
   "outputs": [],
   "source": [
    "# read beers csv files\n",
    "beers = \"beers.csv\"\n",
    "beers_df = pd.read_csv(beers)\n",
    "# Rename columns for better readability\n",
    "beers_id_df = beers_df.rename(columns={'Unnamed: 0': 'index', 'beer_id': 'id', 'name': 'beer_name'})\n",
    "# Preview beers df\n",
    "beers_id_df "
   ]
  },
  {
   "cell_type": "code",
   "execution_count": null,
   "metadata": {},
   "outputs": [],
   "source": [
    "# Merge beers and breweries df\n",
    "merged_beers_df = pd.merge(brewery_id_df, beers_id_df , on=\"brewery_id\")\n",
    "merged_beers_df"
   ]
  },
  {
   "cell_type": "code",
   "execution_count": null,
   "metadata": {},
   "outputs": [],
   "source": [
    "# extract region column and get all unique values\n",
    "unique_brewery = merged_beers_df['brewery_name'].unique()\n",
    "#print(unique_brewery)\n",
    "merged_beers_df['brewery_name'].nunique()"
   ]
  },
  {
   "cell_type": "code",
   "execution_count": null,
   "metadata": {},
   "outputs": [],
   "source": [
    "# iterate through each unique region and do API pull to get their longitude/latitudes and rating\n",
    "lat = []\n",
    "lng = []\n",
    "rating = []\n",
    "for brewery in unique_brewery:\n",
    "    \n",
    "    params = {\"input\": brewery, \n",
    "              \"key\": gkey}\n",
    "\n",
    "    target_url = ('https://maps.googleapis.com/maps/api/place/findplacefromtext/json?input={0}&inputtype=textquery&fields=photos,formatted_address,name,rating,opening_hours,geometry&key={1}').format(brewery, gkey) \n",
    "    \n",
    "    response = requests.get(target_url).json()\n",
    "    try:\n",
    "        latitude = response['candidates'][0]['geometry']['location']['lat']\n",
    "        longitude = response['candidates'][0]['geometry']['location']['lng']\n",
    "        rate = response['candidates'][0]['rating']\n",
    "    except:\n",
    "        latitude = float('NaN')\n",
    "        longitude = float('NaN')\n",
    "        rate = float('NaN')\n",
    "        print(brewery + ': Brewery not found')\n",
    "    lat.append(latitude)\n",
    "    lng.append(longitude)\n",
    "    rating.append(rate)"
   ]
  },
  {
   "cell_type": "code",
   "execution_count": null,
   "metadata": {},
   "outputs": [],
   "source": [
    "# make a dictionary with brewery name as key and list of lat,lng as value\n",
    "brewery_dict = {}\n",
    "for i in range(len(unique_brewery)):\n",
    "    brewery_dict[unique_brewery[i]] = [[lat[i], lng[i]], rating[i]]\n",
    "\n",
    "pprint(brewery_dict)"
   ]
  },
  {
   "cell_type": "code",
   "execution_count": null,
   "metadata": {},
   "outputs": [],
   "source": [
    "# iterate through each row of original df to find their respective coords\n",
    "lat2 = []\n",
    "lng2 = []\n",
    "rating2 = []\n",
    "for index, row in merged_beers_df.iterrows():\n",
    "    if row['brewery_name'] in brewery_dict:\n",
    "        lat2.append(brewery_dict[row['brewery_name']][0][0])\n",
    "        lng2.append(brewery_dict[row['brewery_name']][0][1])\n",
    "        rating2.append(brewery_dict[row['brewery_name']][1])"
   ]
  },
  {
   "cell_type": "code",
   "execution_count": null,
   "metadata": {},
   "outputs": [],
   "source": [
    "# Drop columns that are not needed\n",
    "beer_data_df = beer_fulldata.drop(columns=['index', 'ibu', 'id'])\n",
    "# Preview Data\n",
    "beer_data_df.head()"
   ]
  },
  {
   "cell_type": "code",
   "execution_count": null,
   "metadata": {},
   "outputs": [],
   "source": [
    "#save as new csv\n",
    "beer_data_df.to_csv('beers_df.csv')"
   ]
  },
  {
   "cell_type": "code",
   "execution_count": null,
   "metadata": {},
   "outputs": [],
   "source": []
  },
  {
   "cell_type": "code",
   "execution_count": null,
   "metadata": {},
   "outputs": [],
   "source": []
  }
 ],
 "metadata": {
  "kernelspec": {
   "display_name": "Python 3",
   "language": "python",
   "name": "python3"
  },
  "language_info": {
   "codemirror_mode": {
    "name": "ipython",
    "version": 3
   },
   "file_extension": ".py",
   "mimetype": "text/x-python",
   "name": "python",
   "nbconvert_exporter": "python",
   "pygments_lexer": "ipython3",
   "version": "3.6.9"
  }
 },
 "nbformat": 4,
 "nbformat_minor": 2
}
