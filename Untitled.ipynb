{
 "cells": [
  {
   "cell_type": "code",
   "execution_count": 9,
   "metadata": {},
   "outputs": [],
   "source": [
    "from bs4 import BeautifulSoup as bs\n",
    "from splinter import Browser\n",
    "import pandas as pd\n",
    "from selenium import webdriver\n",
    "import requests as req"
   ]
  },
  {
   "cell_type": "code",
   "execution_count": 12,
   "metadata": {},
   "outputs": [],
   "source": [
    "r = req.get(\"https://www.thrillist.com/drink/nation/beer-consumption-by-state/3973432\")"
   ]
  },
  {
   "cell_type": "code",
   "execution_count": 13,
   "metadata": {},
   "outputs": [
    {
     "name": "stdout",
     "output_type": "stream",
     "text": [
      "<!DOCTYPE html>\n",
      "<html class=\"no-js\" xmlns:fb=\"http://ogp.me/ns/fb#\">\n",
      "<head>\n",
      "    <title>Beer Consumption by State - Thrillist</title>\n",
      "    <meta charset=\"utf-8\" />\n",
      "\n",
      "    <meta id=\"viewport\" name=\"viewport\" content=\"width=device-width, initial-scale=1.0, maximum-scale=1, user-scalable=0, shrink-to-fit=no\" />\n",
      "<script>\n",
      "    // ipads gets desktop view\n",
      "    if (/iPad/.test(navigator.userAgent)) {\n",
      "        document.getElementById(\"viewport\").setAttribute(\"content\", \"width=1024\");\n",
      "    }\n",
      "</script>\n",
      "\n",
      "    <meta \n"
     ]
    }
   ],
   "source": [
    "print(r.text[0:500])"
   ]
  },
  {
   "cell_type": "code",
   "execution_count": 14,
   "metadata": {},
   "outputs": [],
   "source": [
    "soup = bs(r.text, 'html.parser')"
   ]
  },
  {
   "cell_type": "code",
   "execution_count": 20,
   "metadata": {},
   "outputs": [
    {
     "data": {
      "text/plain": [
       "4"
      ]
     },
     "execution_count": 20,
     "metadata": {},
     "output_type": "execute_result"
    }
   ],
   "source": [
    "results = soup.find_all('p', attrs={'class':'body-text__paragraph-text font--body has-spacing'})\n",
    "len(results)"
   ]
  },
  {
   "cell_type": "code",
   "execution_count": 96,
   "metadata": {},
   "outputs": [
    {
     "data": {
      "text/plain": [
       "<p class=\"body-text__paragraph-text font--body has-spacing\"><strong>Alabama: </strong>30.2 gallons<br/><strong>Alaska: </strong>28.7 gallons<br/><strong>Arizona: </strong>29.5 gallons<br/><strong>Arkansas: </strong>26.7 gallons<br/><strong>California: </strong>25.5 gallons<br/><strong>Colorado: </strong>30 gallons<br/><strong>Connecticut: </strong>22 gallons<br/><strong>Delaware: </strong>33.6 gallons<br/><strong>Florida: </strong>27.4 gallons<br/><strong>Georgia: </strong>25.7 gallons<br/><strong>Hawaii: </strong>30.4 gallons<br/><strong>Idaho: </strong>27.8 gallons<br/><strong>Illinois: </strong>29.1 gallons<br/><strong>Indiana: </strong>25.9 gallons<br/><strong>Iowa: </strong>33.6 gallons<br/><strong>Kansas: </strong>28.3 gallons<br/><strong>Kentucky: </strong>24.4 gallons<br/><strong>Louisiana: </strong>33.9 gallons<br/><strong>Maine: </strong>34 gallons<br/><strong>Maryland: </strong>23.2 gallons<br/><strong>Massachusetts: </strong>26.2 gallons<br/><strong>Michigan: </strong>26.8 gallons<br/><strong>Minnesota: </strong>28.5 gallons<br/><strong>Mississippi: </strong>33.9 gallons<br/><strong>Missouri: </strong>31 gallons<br/><strong>Montana: </strong>41 gallons<br/><strong>Nebraska: </strong>35.2 gallons<br/><strong>Nevada: </strong>35.8 gallons<br/><strong>New Hampshire: </strong>43.9 gallons<br/><strong>New Jersey: </strong>22.4 gallons<br/><strong>New Mexico: </strong>32.4 gallons<br/><strong>New York: </strong>22.4 gallons<br/><strong>North Carolina: </strong>27.1 gallons<br/><strong>North Dakota: </strong>45.8 gallons<br/><strong>Ohio: </strong>30.1 gallons<br/><strong>Oklahoma: </strong>28.3 gallons<br/><strong>Oregon: </strong>30.3 gallons<br/><strong>Pennsylvania: </strong>28.6 gallons<br/><strong>Rhode Island: </strong>26.3 gallons<br/><strong>South Carolina: </strong>32.7 gallons<br/><strong>South Dakota: </strong>38.9 gallons<br/><strong>Tennessee: </strong>26.2 gallons<br/><strong>Texas: </strong>34.4 gallons<br/><strong>Utah: </strong>20.2 gallons<br/><strong>Vermont: </strong>35.3 gallons<br/><strong>Virginia: </strong>26.7 gallons<br/><strong>Washington: </strong>24.8 gallons<br/><strong>Washington DC: </strong>28.3 gallons<br/><strong>West Virginia: </strong>30.3 gallons<br/><strong>Wisconsin: </strong>36.2 gallons<br/><strong>Wyoming: </strong>33 gallons</p>"
      ]
     },
     "execution_count": 96,
     "metadata": {},
     "output_type": "execute_result"
    }
   ],
   "source": [
    "results[1]"
   ]
  },
  {
   "cell_type": "code",
   "execution_count": 104,
   "metadata": {},
   "outputs": [
    {
     "data": {
      "text/plain": [
       "'Alabama:'"
      ]
     },
     "execution_count": 104,
     "metadata": {},
     "output_type": "execute_result"
    }
   ],
   "source": [
    "# Extracting Data\n",
    "first_result.find(\"strong\").text[0:-1]"
   ]
  },
  {
   "cell_type": "code",
   "execution_count": 109,
   "metadata": {},
   "outputs": [
    {
     "data": {
      "text/plain": [
       "'30.2 gallons'"
      ]
     },
     "execution_count": 109,
     "metadata": {},
     "output_type": "execute_result"
    }
   ],
   "source": [
    "first_result.contents[1]"
   ]
  },
  {
   "cell_type": "code",
   "execution_count": 140,
   "metadata": {},
   "outputs": [],
   "source": [
    "records = []\n",
    "for result in results:\n",
    "    state = result.find(\"strong\")\n",
    "    gallon = result.contents\n",
    "    records.append((state , gallon))"
   ]
  },
  {
   "cell_type": "code",
   "execution_count": 141,
   "metadata": {},
   "outputs": [
    {
     "data": {
      "text/plain": [
       "4"
      ]
     },
     "execution_count": 141,
     "metadata": {},
     "output_type": "execute_result"
    }
   ],
   "source": [
    "len(records)"
   ]
  },
  {
   "cell_type": "code",
   "execution_count": 149,
   "metadata": {},
   "outputs": [
    {
     "data": {
      "text/plain": [
       "[(None,\n",
       "  ['In ',\n",
       "   <em><a href=\"http://www.amazon.com/United-States-Craft-Beer-Breweries/dp/1440583722/ref=asap_bc?ie=UTF8\" target=\"_blank\">The United States of Craft Beer: A Guide to the Best Craft Breweries Across America</a></em>,\n",
       "   \", beer industry vet Jess Lebow gives his picks for the finest brewery in each state. And while we don't want to spoil his choices -- you can read them all when the book drops next month -- we did want to share the fascinating beer consumption stats Lebow included. The numbers reflect the average amount of beer consumed annually by a citizen of legal age in each state. Plus DC, because the district more than holds its own. See where your home state ranks below:\"]),\n",
       " (<strong>Alabama: </strong>,\n",
       "  [<strong>Alabama: </strong>,\n",
       "   '30.2 gallons',\n",
       "   <br/>,\n",
       "   <strong>Alaska: </strong>,\n",
       "   '28.7 gallons',\n",
       "   <br/>,\n",
       "   <strong>Arizona: </strong>,\n",
       "   '29.5 gallons',\n",
       "   <br/>,\n",
       "   <strong>Arkansas: </strong>,\n",
       "   '26.7 gallons',\n",
       "   <br/>,\n",
       "   <strong>California: </strong>,\n",
       "   '25.5 gallons',\n",
       "   <br/>,\n",
       "   <strong>Colorado: </strong>,\n",
       "   '30 gallons',\n",
       "   <br/>,\n",
       "   <strong>Connecticut: </strong>,\n",
       "   '22 gallons',\n",
       "   <br/>,\n",
       "   <strong>Delaware: </strong>,\n",
       "   '33.6 gallons',\n",
       "   <br/>,\n",
       "   <strong>Florida: </strong>,\n",
       "   '27.4 gallons',\n",
       "   <br/>,\n",
       "   <strong>Georgia: </strong>,\n",
       "   '25.7 gallons',\n",
       "   <br/>,\n",
       "   <strong>Hawaii: </strong>,\n",
       "   '30.4 gallons',\n",
       "   <br/>,\n",
       "   <strong>Idaho: </strong>,\n",
       "   '27.8 gallons',\n",
       "   <br/>,\n",
       "   <strong>Illinois: </strong>,\n",
       "   '29.1 gallons',\n",
       "   <br/>,\n",
       "   <strong>Indiana: </strong>,\n",
       "   '25.9 gallons',\n",
       "   <br/>,\n",
       "   <strong>Iowa: </strong>,\n",
       "   '33.6 gallons',\n",
       "   <br/>,\n",
       "   <strong>Kansas: </strong>,\n",
       "   '28.3 gallons',\n",
       "   <br/>,\n",
       "   <strong>Kentucky: </strong>,\n",
       "   '24.4 gallons',\n",
       "   <br/>,\n",
       "   <strong>Louisiana: </strong>,\n",
       "   '33.9 gallons',\n",
       "   <br/>,\n",
       "   <strong>Maine: </strong>,\n",
       "   '34 gallons',\n",
       "   <br/>,\n",
       "   <strong>Maryland: </strong>,\n",
       "   '23.2 gallons',\n",
       "   <br/>,\n",
       "   <strong>Massachusetts: </strong>,\n",
       "   '26.2 gallons',\n",
       "   <br/>,\n",
       "   <strong>Michigan: </strong>,\n",
       "   '26.8 gallons',\n",
       "   <br/>,\n",
       "   <strong>Minnesota: </strong>,\n",
       "   '28.5 gallons',\n",
       "   <br/>,\n",
       "   <strong>Mississippi: </strong>,\n",
       "   '33.9 gallons',\n",
       "   <br/>,\n",
       "   <strong>Missouri: </strong>,\n",
       "   '31 gallons',\n",
       "   <br/>,\n",
       "   <strong>Montana: </strong>,\n",
       "   '41 gallons',\n",
       "   <br/>,\n",
       "   <strong>Nebraska: </strong>,\n",
       "   '35.2 gallons',\n",
       "   <br/>,\n",
       "   <strong>Nevada: </strong>,\n",
       "   '35.8 gallons',\n",
       "   <br/>,\n",
       "   <strong>New Hampshire: </strong>,\n",
       "   '43.9 gallons',\n",
       "   <br/>,\n",
       "   <strong>New Jersey: </strong>,\n",
       "   '22.4 gallons',\n",
       "   <br/>,\n",
       "   <strong>New Mexico: </strong>,\n",
       "   '32.4 gallons',\n",
       "   <br/>,\n",
       "   <strong>New York: </strong>,\n",
       "   '22.4 gallons',\n",
       "   <br/>,\n",
       "   <strong>North Carolina: </strong>,\n",
       "   '27.1 gallons',\n",
       "   <br/>,\n",
       "   <strong>North Dakota: </strong>,\n",
       "   '45.8 gallons',\n",
       "   <br/>,\n",
       "   <strong>Ohio: </strong>,\n",
       "   '30.1 gallons',\n",
       "   <br/>,\n",
       "   <strong>Oklahoma: </strong>,\n",
       "   '28.3 gallons',\n",
       "   <br/>,\n",
       "   <strong>Oregon: </strong>,\n",
       "   '30.3 gallons',\n",
       "   <br/>,\n",
       "   <strong>Pennsylvania: </strong>,\n",
       "   '28.6 gallons',\n",
       "   <br/>,\n",
       "   <strong>Rhode Island: </strong>,\n",
       "   '26.3 gallons',\n",
       "   <br/>,\n",
       "   <strong>South Carolina: </strong>,\n",
       "   '32.7 gallons',\n",
       "   <br/>,\n",
       "   <strong>South Dakota: </strong>,\n",
       "   '38.9 gallons',\n",
       "   <br/>,\n",
       "   <strong>Tennessee: </strong>,\n",
       "   '26.2 gallons',\n",
       "   <br/>,\n",
       "   <strong>Texas: </strong>,\n",
       "   '34.4 gallons',\n",
       "   <br/>,\n",
       "   <strong>Utah: </strong>,\n",
       "   '20.2 gallons',\n",
       "   <br/>,\n",
       "   <strong>Vermont: </strong>,\n",
       "   '35.3 gallons',\n",
       "   <br/>,\n",
       "   <strong>Virginia: </strong>,\n",
       "   '26.7 gallons',\n",
       "   <br/>,\n",
       "   <strong>Washington: </strong>,\n",
       "   '24.8 gallons',\n",
       "   <br/>,\n",
       "   <strong>Washington DC: </strong>,\n",
       "   '28.3 gallons',\n",
       "   <br/>,\n",
       "   <strong>West Virginia: </strong>,\n",
       "   '30.3 gallons',\n",
       "   <br/>,\n",
       "   <strong>Wisconsin: </strong>,\n",
       "   '36.2 gallons',\n",
       "   <br/>,\n",
       "   <strong>Wyoming: </strong>,\n",
       "   '33 gallons']),\n",
       " (None,\n",
       "  ['Given their ',\n",
       "   <a href=\"https://www.thrillist.com/drink/nation/utah-s-weird-liquor-laws-3-2-beer-zion-curtains-no-happy-hours-thrillist-nation\" target=\"_blank\">very bizarre liquor laws</a>,\n",
       "   \", Utah's low tally makes total sense. But North Dakota clearly knows how to party, and based on the intel out of New Hampshire, those maple tours are \",\n",
       "   <em>way</em>,\n",
       "   ' headier than the brochures would have you believe. Might wanna consider booking one, before New England finally thaws out sometime this May.']),\n",
       " (<strong><a href=\"https://www.thrillist.com/authors/kristin-hunt\" target=\"_blank\">Kristin Hunt</a> </strong>,\n",
       "  [<em><strong><a href=\"https://www.thrillist.com/authors/kristin-hunt\" target=\"_blank\">Kristin Hunt</a> </strong>is a Food/Drink staff writer for Thrillist, and was very pleased with Jess Lebow's pick for her home state. Follow her at <a href=\"http://twitter.com/kristin_hunt\" target=\"_blank\">@kristin_hunt</a>.</em>])]"
      ]
     },
     "execution_count": 149,
     "metadata": {},
     "output_type": "execute_result"
    }
   ],
   "source": [
    "records"
   ]
  },
  {
   "cell_type": "code",
   "execution_count": 150,
   "metadata": {},
   "outputs": [],
   "source": [
    "df = pd.DataFrame(records, columns=['state', 'gallon'])"
   ]
  },
  {
   "cell_type": "code",
   "execution_count": 151,
   "metadata": {},
   "outputs": [
    {
     "data": {
      "text/html": [
       "<div>\n",
       "<style scoped>\n",
       "    .dataframe tbody tr th:only-of-type {\n",
       "        vertical-align: middle;\n",
       "    }\n",
       "\n",
       "    .dataframe tbody tr th {\n",
       "        vertical-align: top;\n",
       "    }\n",
       "\n",
       "    .dataframe thead th {\n",
       "        text-align: right;\n",
       "    }\n",
       "</style>\n",
       "<table border=\"1\" class=\"dataframe\">\n",
       "  <thead>\n",
       "    <tr style=\"text-align: right;\">\n",
       "      <th></th>\n",
       "      <th>state</th>\n",
       "      <th>gallon</th>\n",
       "    </tr>\n",
       "  </thead>\n",
       "  <tbody>\n",
       "    <tr>\n",
       "      <td>0</td>\n",
       "      <td>None</td>\n",
       "      <td>[In , [[The United States of Craft Beer: A Gui...</td>\n",
       "    </tr>\n",
       "    <tr>\n",
       "      <td>1</td>\n",
       "      <td>[Alabama: ]</td>\n",
       "      <td>[[Alabama: ], 30.2 gallons, [], [Alaska: ], 28...</td>\n",
       "    </tr>\n",
       "    <tr>\n",
       "      <td>2</td>\n",
       "      <td>None</td>\n",
       "      <td>[Given their , [very bizarre liquor laws], , U...</td>\n",
       "    </tr>\n",
       "    <tr>\n",
       "      <td>3</td>\n",
       "      <td>[[Kristin Hunt],  ]</td>\n",
       "      <td>[[[&lt;a href=\"https://www.thrillist.com/authors/...</td>\n",
       "    </tr>\n",
       "  </tbody>\n",
       "</table>\n",
       "</div>"
      ],
      "text/plain": [
       "                 state                                             gallon\n",
       "0                 None  [In , [[The United States of Craft Beer: A Gui...\n",
       "1          [Alabama: ]  [[Alabama: ], 30.2 gallons, [], [Alaska: ], 28...\n",
       "2                 None  [Given their , [very bizarre liquor laws], , U...\n",
       "3  [[Kristin Hunt],  ]  [[[<a href=\"https://www.thrillist.com/authors/..."
      ]
     },
     "execution_count": 151,
     "metadata": {},
     "output_type": "execute_result"
    }
   ],
   "source": [
    "df.head()"
   ]
  },
  {
   "cell_type": "code",
   "execution_count": null,
   "metadata": {},
   "outputs": [],
   "source": []
  }
 ],
 "metadata": {
  "kernelspec": {
   "display_name": "Python 3",
   "language": "python",
   "name": "python3"
  },
  "language_info": {
   "codemirror_mode": {
    "name": "ipython",
    "version": 3
   },
   "file_extension": ".py",
   "mimetype": "text/x-python",
   "name": "python",
   "nbconvert_exporter": "python",
   "pygments_lexer": "ipython3",
   "version": "3.6.9"
  }
 },
 "nbformat": 4,
 "nbformat_minor": 2
}
