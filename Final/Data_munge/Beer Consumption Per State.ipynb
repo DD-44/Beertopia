{
 "cells": [
  {
   "cell_type": "code",
   "execution_count": 1,
   "metadata": {},
   "outputs": [],
   "source": [
    "# import dependencies \n",
    "import pandas as pd\n",
    "import numpy as np\n",
    "import requests\n",
    "import json\n",
    "from pprint import pprint\n",
    " \n",
    "from bs4 import BeautifulSoup as bs\n",
    "import requests as req"
   ]
  },
  {
   "cell_type": "code",
   "execution_count": 2,
   "metadata": {},
   "outputs": [
    {
     "data": {
      "text/plain": [
       "<p class=\"body-text__paragraph-text font--body has-spacing\"><strong>Alabama: </strong>30.2 gallons<br/><strong>Alaska: </strong>28.7 gallons<br/><strong>Arizona: </strong>29.5 gallons<br/><strong>Arkansas: </strong>26.7 gallons<br/><strong>California: </strong>25.5 gallons<br/><strong>Colorado: </strong>30 gallons<br/><strong>Connecticut: </strong>22 gallons<br/><strong>Delaware: </strong>33.6 gallons<br/><strong>Florida: </strong>27.4 gallons<br/><strong>Georgia: </strong>25.7 gallons<br/><strong>Hawaii: </strong>30.4 gallons<br/><strong>Idaho: </strong>27.8 gallons<br/><strong>Illinois: </strong>29.1 gallons<br/><strong>Indiana: </strong>25.9 gallons<br/><strong>Iowa: </strong>33.6 gallons<br/><strong>Kansas: </strong>28.3 gallons<br/><strong>Kentucky: </strong>24.4 gallons<br/><strong>Louisiana: </strong>33.9 gallons<br/><strong>Maine: </strong>34 gallons<br/><strong>Maryland: </strong>23.2 gallons<br/><strong>Massachusetts: </strong>26.2 gallons<br/><strong>Michigan: </strong>26.8 gallons<br/><strong>Minnesota: </strong>28.5 gallons<br/><strong>Mississippi: </strong>33.9 gallons<br/><strong>Missouri: </strong>31 gallons<br/><strong>Montana: </strong>41 gallons<br/><strong>Nebraska: </strong>35.2 gallons<br/><strong>Nevada: </strong>35.8 gallons<br/><strong>New Hampshire: </strong>43.9 gallons<br/><strong>New Jersey: </strong>22.4 gallons<br/><strong>New Mexico: </strong>32.4 gallons<br/><strong>New York: </strong>22.4 gallons<br/><strong>North Carolina: </strong>27.1 gallons<br/><strong>North Dakota: </strong>45.8 gallons<br/><strong>Ohio: </strong>30.1 gallons<br/><strong>Oklahoma: </strong>28.3 gallons<br/><strong>Oregon: </strong>30.3 gallons<br/><strong>Pennsylvania: </strong>28.6 gallons<br/><strong>Rhode Island: </strong>26.3 gallons<br/><strong>South Carolina: </strong>32.7 gallons<br/><strong>South Dakota: </strong>38.9 gallons<br/><strong>Tennessee: </strong>26.2 gallons<br/><strong>Texas: </strong>34.4 gallons<br/><strong>Utah: </strong>20.2 gallons<br/><strong>Vermont: </strong>35.3 gallons<br/><strong>Virginia: </strong>26.7 gallons<br/><strong>Washington: </strong>24.8 gallons<br/><strong>Washington DC: </strong>28.3 gallons<br/><strong>West Virginia: </strong>30.3 gallons<br/><strong>Wisconsin: </strong>36.2 gallons<br/><strong>Wyoming: </strong>33 gallons</p>"
      ]
     },
     "execution_count": 2,
     "metadata": {},
     "output_type": "execute_result"
    }
   ],
   "source": [
    "# Request beer consumption data from link\n",
    "link_request = req.get(\"https://www.thrillist.com/drink/nation/beer-consumption-by-state/3973432\")\n",
    "\n",
    "# Create data soup using BeautifulSoup\n",
    "data_soup = bs(link_request.text, 'html.parser')\n",
    "\n",
    "# Scrape data using class tag as below\n",
    "scrape = data_soup.find_all('p', attrs={'class':'body-text__paragraph-text font--body has-spacing'})\n",
    "\n",
    "# Preview Data\n",
    "data = scrape[1]\n",
    "data"
   ]
  },
  {
   "cell_type": "code",
   "execution_count": 3,
   "metadata": {},
   "outputs": [],
   "source": [
    "# Change data into list to begin formatting data\n",
    "data_list = []\n",
    "for x in data: \n",
    "    data_list.append(x)\n",
    "    \n",
    "# Preview list \n",
    "# data_list[0], data_list[1], data_list[2], \n",
    "    \n",
    "# Create 2 lists. One with states and another with gallons consumed\n",
    "states = []\n",
    "gallons = []\n",
    "for x in data_list:\n",
    "    if str(\"gallons\") in str(x):\n",
    "        gallons.append(x)\n",
    "    if str(\"</strong>\")in str(x):\n",
    "        states.append(x)\n",
    "    else: pass\n",
    "    "
   ]
  },
  {
   "cell_type": "code",
   "execution_count": 4,
   "metadata": {},
   "outputs": [
    {
     "data": {
      "text/plain": [
       "<strong>Alabama: </strong>"
      ]
     },
     "execution_count": 4,
     "metadata": {},
     "output_type": "execute_result"
    }
   ],
   "source": [
    "# Preview state list\n",
    "states[0]\n",
    "\n",
    "# Preview gallons list\n",
    "#gallons[0]"
   ]
  },
  {
   "cell_type": "code",
   "execution_count": 5,
   "metadata": {},
   "outputs": [
    {
     "data": {
      "text/plain": [
       "'Alabama'"
      ]
     },
     "execution_count": 5,
     "metadata": {},
     "output_type": "execute_result"
    }
   ],
   "source": [
    "# Extract state string from state list\n",
    "state_list = []\n",
    "for x in states:\n",
    "    # Multiple splits to extract the states\n",
    "    state1 = str(x).split(\": <\")[0]\n",
    "    state2 = str(state1).split(\">\")[1]    \n",
    "    state_list.append(state2)\n",
    "\n",
    "state_list[0]"
   ]
  },
  {
   "cell_type": "code",
   "execution_count": 6,
   "metadata": {},
   "outputs": [
    {
     "data": {
      "text/plain": [
       "'30.2'"
      ]
     },
     "execution_count": 6,
     "metadata": {},
     "output_type": "execute_result"
    }
   ],
   "source": [
    "# Extract gallon number from gallons list\n",
    "gallons_list = []\n",
    "for x in gallons:\n",
    "    gallon1 = str(x).split(\" \")[0]\n",
    "    gallons_list.append(gallon1)\n",
    "    \n",
    "gallons_list[0]"
   ]
  },
  {
   "cell_type": "code",
   "execution_count": 7,
   "metadata": {},
   "outputs": [
    {
     "data": {
      "text/html": [
       "<div>\n",
       "<style scoped>\n",
       "    .dataframe tbody tr th:only-of-type {\n",
       "        vertical-align: middle;\n",
       "    }\n",
       "\n",
       "    .dataframe tbody tr th {\n",
       "        vertical-align: top;\n",
       "    }\n",
       "\n",
       "    .dataframe thead th {\n",
       "        text-align: right;\n",
       "    }\n",
       "</style>\n",
       "<table border=\"1\" class=\"dataframe\">\n",
       "  <thead>\n",
       "    <tr style=\"text-align: right;\">\n",
       "      <th></th>\n",
       "      <th>State</th>\n",
       "      <th>Consumption_in_gallons</th>\n",
       "    </tr>\n",
       "  </thead>\n",
       "  <tbody>\n",
       "    <tr>\n",
       "      <td>0</td>\n",
       "      <td>Alabama</td>\n",
       "      <td>30.2</td>\n",
       "    </tr>\n",
       "    <tr>\n",
       "      <td>1</td>\n",
       "      <td>Alaska</td>\n",
       "      <td>28.7</td>\n",
       "    </tr>\n",
       "    <tr>\n",
       "      <td>2</td>\n",
       "      <td>Arizona</td>\n",
       "      <td>29.5</td>\n",
       "    </tr>\n",
       "    <tr>\n",
       "      <td>3</td>\n",
       "      <td>Arkansas</td>\n",
       "      <td>26.7</td>\n",
       "    </tr>\n",
       "    <tr>\n",
       "      <td>4</td>\n",
       "      <td>California</td>\n",
       "      <td>25.5</td>\n",
       "    </tr>\n",
       "  </tbody>\n",
       "</table>\n",
       "</div>"
      ],
      "text/plain": [
       "        State Consumption_in_gallons\n",
       "0     Alabama                   30.2\n",
       "1      Alaska                   28.7\n",
       "2     Arizona                   29.5\n",
       "3    Arkansas                   26.7\n",
       "4  California                   25.5"
      ]
     },
     "execution_count": 7,
     "metadata": {},
     "output_type": "execute_result"
    }
   ],
   "source": [
    "# Create beer consumption per state DataFrame\n",
    "beer_consumption_df = pd.DataFrame({\"State\": state_list,\n",
    "                                   \"Consumption_in_gallons\": gallons_list})\n",
    "# Preview beer consumption DataFrame\n",
    "beer_consumption_df.head()"
   ]
  },
  {
   "cell_type": "code",
   "execution_count": 8,
   "metadata": {},
   "outputs": [
    {
     "data": {
      "text/html": [
       "<div>\n",
       "<style scoped>\n",
       "    .dataframe tbody tr th:only-of-type {\n",
       "        vertical-align: middle;\n",
       "    }\n",
       "\n",
       "    .dataframe tbody tr th {\n",
       "        vertical-align: top;\n",
       "    }\n",
       "\n",
       "    .dataframe thead th {\n",
       "        text-align: right;\n",
       "    }\n",
       "</style>\n",
       "<table border=\"1\" class=\"dataframe\">\n",
       "  <thead>\n",
       "    <tr style=\"text-align: right;\">\n",
       "      <th></th>\n",
       "      <th>state</th>\n",
       "      <th>State</th>\n",
       "    </tr>\n",
       "  </thead>\n",
       "  <tbody>\n",
       "    <tr>\n",
       "      <td>0</td>\n",
       "      <td>AA</td>\n",
       "      <td>Armed Forces (the) Americas</td>\n",
       "    </tr>\n",
       "    <tr>\n",
       "      <td>1</td>\n",
       "      <td>AB</td>\n",
       "      <td>Alberta</td>\n",
       "    </tr>\n",
       "    <tr>\n",
       "      <td>2</td>\n",
       "      <td>AE</td>\n",
       "      <td>Armed Forces Europe</td>\n",
       "    </tr>\n",
       "    <tr>\n",
       "      <td>3</td>\n",
       "      <td>AK</td>\n",
       "      <td>Alaska</td>\n",
       "    </tr>\n",
       "    <tr>\n",
       "      <td>4</td>\n",
       "      <td>AL</td>\n",
       "      <td>Alabama</td>\n",
       "    </tr>\n",
       "  </tbody>\n",
       "</table>\n",
       "</div>"
      ],
      "text/plain": [
       "  state                        State\n",
       "0    AA  Armed Forces (the) Americas\n",
       "1    AB                      Alberta\n",
       "2    AE          Armed Forces Europe\n",
       "3    AK                       Alaska\n",
       "4    AL                      Alabama"
      ]
     },
     "execution_count": 8,
     "metadata": {},
     "output_type": "execute_result"
    }
   ],
   "source": [
    "# Create state DataFrame with state's abbreviation\n",
    "states_url = 'http://app02.clerk.org/menu/ccis/Help/CCIS%20Codes/state_codes.html'\n",
    "tables = pd.read_html(states_url)\n",
    "states_table = tables[0]\n",
    "states_table_df = states_table.rename(columns={'Code': 'state',\n",
    "                                                'Description': 'State'})\n",
    "\n",
    "# Preview state DataFrame\n",
    "states_table_df.head()"
   ]
  },
  {
   "cell_type": "code",
   "execution_count": 9,
   "metadata": {},
   "outputs": [
    {
     "data": {
      "text/html": [
       "<div>\n",
       "<style scoped>\n",
       "    .dataframe tbody tr th:only-of-type {\n",
       "        vertical-align: middle;\n",
       "    }\n",
       "\n",
       "    .dataframe tbody tr th {\n",
       "        vertical-align: top;\n",
       "    }\n",
       "\n",
       "    .dataframe thead th {\n",
       "        text-align: right;\n",
       "    }\n",
       "</style>\n",
       "<table border=\"1\" class=\"dataframe\">\n",
       "  <thead>\n",
       "    <tr style=\"text-align: right;\">\n",
       "      <th></th>\n",
       "      <th>State</th>\n",
       "      <th>Consumption_in_gallons</th>\n",
       "      <th>state</th>\n",
       "    </tr>\n",
       "  </thead>\n",
       "  <tbody>\n",
       "    <tr>\n",
       "      <td>0</td>\n",
       "      <td>Alabama</td>\n",
       "      <td>30.2</td>\n",
       "      <td>AL</td>\n",
       "    </tr>\n",
       "    <tr>\n",
       "      <td>1</td>\n",
       "      <td>Alaska</td>\n",
       "      <td>28.7</td>\n",
       "      <td>AK</td>\n",
       "    </tr>\n",
       "    <tr>\n",
       "      <td>2</td>\n",
       "      <td>Arizona</td>\n",
       "      <td>29.5</td>\n",
       "      <td>AZ</td>\n",
       "    </tr>\n",
       "    <tr>\n",
       "      <td>3</td>\n",
       "      <td>Arkansas</td>\n",
       "      <td>26.7</td>\n",
       "      <td>AR</td>\n",
       "    </tr>\n",
       "    <tr>\n",
       "      <td>4</td>\n",
       "      <td>California</td>\n",
       "      <td>25.5</td>\n",
       "      <td>CA</td>\n",
       "    </tr>\n",
       "  </tbody>\n",
       "</table>\n",
       "</div>"
      ],
      "text/plain": [
       "        State Consumption_in_gallons state\n",
       "0     Alabama                   30.2    AL\n",
       "1      Alaska                   28.7    AK\n",
       "2     Arizona                   29.5    AZ\n",
       "3    Arkansas                   26.7    AR\n",
       "4  California                   25.5    CA"
      ]
     },
     "execution_count": 9,
     "metadata": {},
     "output_type": "execute_result"
    }
   ],
   "source": [
    "# Merge beerconsumption and  and states df\n",
    "merged_states_df = pd.merge(beer_consumption_df, states_table_df , on=\"State\", how=\"inner\")\n",
    "merged_states_df.head()"
   ]
  },
  {
   "cell_type": "code",
   "execution_count": 10,
   "metadata": {},
   "outputs": [],
   "source": [
    "#save as new csv\n",
    "merged_states_df.to_csv('beer_consumption_df.csv')"
   ]
  },
  {
   "cell_type": "code",
   "execution_count": null,
   "metadata": {},
   "outputs": [],
   "source": []
  }
 ],
 "metadata": {
  "kernelspec": {
   "display_name": "Python 3",
   "language": "python",
   "name": "python3"
  },
  "language_info": {
   "codemirror_mode": {
    "name": "ipython",
    "version": 3
   },
   "file_extension": ".py",
   "mimetype": "text/x-python",
   "name": "python",
   "nbconvert_exporter": "python",
   "pygments_lexer": "ipython3",
   "version": "3.6.9"
  }
 },
 "nbformat": 4,
 "nbformat_minor": 2
}
